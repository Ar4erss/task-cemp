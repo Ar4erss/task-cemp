{
 "cells": [
  {
   "cell_type": "code",
   "execution_count": 2,
   "id": "d6dcb411-b972-4ab9-bb24-15d348b461f8",
   "metadata": {},
   "outputs": [
    {
     "name": "stdout",
     "output_type": "stream",
     "text": [
      "Склянок: 2, Поверхів: 100 → Мінімальна кількість кидків: 14\n",
      "Склянок: 3, Поверхів: 100 → Мінімальна кількість кидків: 9\n",
      "Склянок: 5, Поверхів: 1000 → Мінімальна кількість кидків: 11\n"
     ]
    }
   ],
   "source": [
    "def drop_dp(glass, floors):\n",
    "    # Таблиця dp[glass+1][floors+1]\n",
    "    dp = [[0] * (floors + 1) for _ in range(glass + 1)]\n",
    "    \n",
    "    for f in range(1, floors + 1):\n",
    "        dp[1][f] = f\n",
    "\n",
    "\n",
    "    for g in range(2, glass + 1):\n",
    "        for f in range(1, floors + 1):\n",
    "            dp[g][f] = float('inf')\n",
    "            for x in range(1, f + 1):\n",
    "                res = 1 + max(dp[g - 1][x - 1], dp[g][f - x])\n",
    "                dp[g][f] = min(dp[g][f], res)\n",
    "\n",
    "    return dp[glass][floors]\n",
    "\n",
    "cases = [\n",
    "    (2, 100),\n",
    "    (3, 100),\n",
    "    (5, 1000)\n",
    "]\n",
    "\n",
    "for glass, floors in cases:\n",
    "    result = drop_dp(glass, floors)\n",
    "    print(f\"Склянок: {glass}, Поверхів: {floors} → Мінімальна кількість кидків: {result}\")\n"
   ]
  },
  {
   "cell_type": "code",
   "execution_count": null,
   "id": "0f014582-8deb-4e03-a2fa-700ae9e2da7b",
   "metadata": {},
   "outputs": [],
   "source": []
  }
 ],
 "metadata": {
  "kernelspec": {
   "display_name": "Python [conda env:base] *",
   "language": "python",
   "name": "conda-base-py"
  },
  "language_info": {
   "codemirror_mode": {
    "name": "ipython",
    "version": 3
   },
   "file_extension": ".py",
   "mimetype": "text/x-python",
   "name": "python",
   "nbconvert_exporter": "python",
   "pygments_lexer": "ipython3",
   "version": "3.12.7"
  }
 },
 "nbformat": 4,
 "nbformat_minor": 5
}
