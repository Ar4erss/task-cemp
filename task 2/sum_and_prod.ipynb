{
 "cells": [
  {
   "cell_type": "code",
   "execution_count": 5,
   "id": "3ec26f07-f6d5-4c64-b6a5-23c365c4f523",
   "metadata": {},
   "outputs": [
    {
     "name": "stdout",
     "output_type": "stream",
     "text": [
      "The unknown pair of numbers was: 4 and 13\n",
      "The product was: 52 \n",
      "The sum was: 17\n"
     ]
    }
   ],
   "source": [
    "import numpy as np\n",
    "import itertools as it\n",
    "\n",
    "pairs = np.array(list(it.combinations(range(2, 100), 2)))\n",
    "\n",
    "def create_dict(pairs, action):\n",
    "    result_dict = {}\n",
    "    for pair in pairs:\n",
    "        result_dict.setdefault(action(pair), []).append(pair)\n",
    "    return result_dict\n",
    "\n",
    "def get_condition(prod_dict, sum_dict):\n",
    "    prod_condition = {prod: pair_list for prod, pair_list in prod_dict.items() if len(pair_list) >= 2}\n",
    "    sum_condition = {s: sum_pairs for s, sum_pairs in sum_dict.items() if all(pair[0] * pair[1] in prod_condition for pair in sum_pairs)}\n",
    "    unique_prod_condition = {prod: valid_pairs[0] for prod, pair_list in prod_condition.items()\n",
    "                             if (valid_pairs := [pair for pair in pair_list if (pair[0] + pair[1]) in sum_condition]) and len(valid_pairs) == 1}\n",
    "    return {s: valid_pairs[0] for s, sum_pairs in sum_condition.items()\n",
    "            if (valid_pairs := [pair for pair in sum_pairs if (pair[0] * pair[1]) in unique_prod_condition]) and len(valid_pairs) == 1}\n",
    "\n",
    "def output_result(final_condition):\n",
    "    final_pair = list(final_condition.values())[0]\n",
    "    print(f\"The unknown pair of numbers was: {final_pair[0]} and {final_pair[1]}\\nThe product was: {np.prod(final_pair)} \\nThe sum was: {np.sum(final_pair)}\")\n",
    "sum_dict = create_dict(pairs, np.sum)\n",
    "prod_dict = create_dict(pairs, np.prod)\n",
    "output_result(get_condition(prod_dict, sum_dict))"
   ]
  }
 ],
 "metadata": {
  "kernelspec": {
   "display_name": "Python [conda env:base] *",
   "language": "python",
   "name": "conda-base-py"
  },
  "language_info": {
   "codemirror_mode": {
    "name": "ipython",
    "version": 3
   },
   "file_extension": ".py",
   "mimetype": "text/x-python",
   "name": "python",
   "nbconvert_exporter": "python",
   "pygments_lexer": "ipython3",
   "version": "3.12.7"
  }
 },
 "nbformat": 4,
 "nbformat_minor": 5
}
